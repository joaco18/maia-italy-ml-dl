{
 "cells": [
  {
   "cell_type": "markdown",
   "metadata": {
    "id": "Koth3HNhxtDC"
   },
   "source": [
    "IMPORT LIBRARIES"
   ]
  },
  {
   "cell_type": "code",
   "execution_count": 170,
   "metadata": {
    "executionInfo": {
     "elapsed": 1411,
     "status": "ok",
     "timestamp": 1648123192787,
     "user": {
      "displayName": "Claudio MARROCCO",
      "photoUrl": "https://lh3.googleusercontent.com/a-/AOh14GhREDvOiH_EHwZ9aq1MgXBaXABqWBxpRHSjD_Uh0Q=s64",
      "userId": "05950188103015598641"
     },
     "user_tz": -60
    },
    "id": "ujWrLxRuSRhk"
   },
   "outputs": [],
   "source": [
    "import numpy as np \n",
    "import pandas as pd\n",
    "import numpy as np\n",
    "\n",
    "from sklearn.compose import ColumnTransformer\n",
    "from sklearn.datasets import fetch_openml\n",
    "from sklearn.pipeline import Pipeline, make_pipeline\n",
    "from sklearn.decomposition import PCA\n",
    "from sklearn.impute import SimpleImputer, KNNImputer\n",
    "from sklearn.preprocessing import RobustScaler, OneHotEncoder\n",
    "from sklearn.ensemble import RandomForestClassifier\n",
    "from sklearn.model_selection import train_test_split, cross_val_score, RandomizedSearchCV"
   ]
  },
  {
   "cell_type": "code",
   "execution_count": 171,
   "metadata": {},
   "outputs": [],
   "source": [
    "import seaborn as sns\n",
    "import matplotlib.pyplot as plt\n",
    "import missingno as msno"
   ]
  },
  {
   "cell_type": "markdown",
   "metadata": {
    "id": "McKleb43uiGU"
   },
   "source": [
    "READ THE DATA:\n",
    "\n",
    "- In this challenge you will use the dataset Titanic disaster.\n",
    "- With the following lines of code, you can import the dataset form the file \"train.csv\", extract te column of labels (column \"Survived\") and read the infos of the other features.\n",
    "\n",
    "---\n",
    "\n"
   ]
  },
  {
   "cell_type": "code",
   "execution_count": 172,
   "metadata": {
    "colab": {
     "base_uri": "https://localhost:8080/"
    },
    "executionInfo": {
     "elapsed": 23076,
     "status": "ok",
     "timestamp": 1648123579481,
     "user": {
      "displayName": "Claudio MARROCCO",
      "photoUrl": "https://lh3.googleusercontent.com/a-/AOh14GhREDvOiH_EHwZ9aq1MgXBaXABqWBxpRHSjD_Uh0Q=s64",
      "userId": "05950188103015598641"
     },
     "user_tz": -60
    },
    "id": "Szs66ADCSqxU",
    "outputId": "2099bd77-7150-470d-a4ed-6567fb5321ab"
   },
   "outputs": [],
   "source": [
    "# Read the dataset\n",
    "features, labels = fetch_openml(\"titanic\", version=1, as_frame=True, return_X_y=True)\n",
    "\n",
    "# Split the dataset and analyse only the training set to avoid biases\n",
    "X_train, X_test, y_train, y_test = \\\n",
    "    train_test_split(features, labels, stratify=labels, test_size=0.2, random_state=42)"
   ]
  },
  {
   "cell_type": "markdown",
   "metadata": {},
   "source": [
    "Visualize the first rows"
   ]
  },
  {
   "cell_type": "code",
   "execution_count": 173,
   "metadata": {},
   "outputs": [
    {
     "data": {
      "text/html": [
       "<div>\n",
       "<style scoped>\n",
       "    .dataframe tbody tr th:only-of-type {\n",
       "        vertical-align: middle;\n",
       "    }\n",
       "\n",
       "    .dataframe tbody tr th {\n",
       "        vertical-align: top;\n",
       "    }\n",
       "\n",
       "    .dataframe thead th {\n",
       "        text-align: right;\n",
       "    }\n",
       "</style>\n",
       "<table border=\"1\" class=\"dataframe\">\n",
       "  <thead>\n",
       "    <tr style=\"text-align: right;\">\n",
       "      <th></th>\n",
       "      <th>pclass</th>\n",
       "      <th>name</th>\n",
       "      <th>sex</th>\n",
       "      <th>age</th>\n",
       "      <th>sibsp</th>\n",
       "      <th>parch</th>\n",
       "      <th>ticket</th>\n",
       "      <th>fare</th>\n",
       "      <th>cabin</th>\n",
       "      <th>embarked</th>\n",
       "      <th>boat</th>\n",
       "      <th>body</th>\n",
       "      <th>home.dest</th>\n",
       "    </tr>\n",
       "  </thead>\n",
       "  <tbody>\n",
       "    <tr>\n",
       "      <th>999</th>\n",
       "      <td>3.0</td>\n",
       "      <td>McCarthy, Miss. Catherine 'Katie'</td>\n",
       "      <td>female</td>\n",
       "      <td>NaN</td>\n",
       "      <td>0.0</td>\n",
       "      <td>0.0</td>\n",
       "      <td>383123</td>\n",
       "      <td>7.7500</td>\n",
       "      <td>None</td>\n",
       "      <td>Q</td>\n",
       "      <td>15 16</td>\n",
       "      <td>NaN</td>\n",
       "      <td>None</td>\n",
       "    </tr>\n",
       "    <tr>\n",
       "      <th>392</th>\n",
       "      <td>2.0</td>\n",
       "      <td>del Carlo, Mrs. Sebastiano (Argenia Genovesi)</td>\n",
       "      <td>female</td>\n",
       "      <td>24.0</td>\n",
       "      <td>1.0</td>\n",
       "      <td>0.0</td>\n",
       "      <td>SC/PARIS 2167</td>\n",
       "      <td>27.7208</td>\n",
       "      <td>None</td>\n",
       "      <td>C</td>\n",
       "      <td>12</td>\n",
       "      <td>NaN</td>\n",
       "      <td>Lucca, Italy / California</td>\n",
       "    </tr>\n",
       "  </tbody>\n",
       "</table>\n",
       "</div>"
      ],
      "text/plain": [
       "     pclass                                           name     sex   age  \\\n",
       "999     3.0              McCarthy, Miss. Catherine 'Katie'  female   NaN   \n",
       "392     2.0  del Carlo, Mrs. Sebastiano (Argenia Genovesi)  female  24.0   \n",
       "\n",
       "     sibsp  parch         ticket     fare cabin embarked   boat  body  \\\n",
       "999    0.0    0.0         383123   7.7500  None        Q  15 16   NaN   \n",
       "392    1.0    0.0  SC/PARIS 2167  27.7208  None        C     12   NaN   \n",
       "\n",
       "                     home.dest  \n",
       "999                       None  \n",
       "392  Lucca, Italy / California  "
      ]
     },
     "execution_count": 173,
     "metadata": {},
     "output_type": "execute_result"
    }
   ],
   "source": [
    "X_train.head(2)"
   ]
  },
  {
   "cell_type": "markdown",
   "metadata": {},
   "source": [
    "Check if there are missing values in the dataframe"
   ]
  },
  {
   "cell_type": "code",
   "execution_count": 174,
   "metadata": {},
   "outputs": [
    {
     "data": {
      "text/plain": [
       "pclass       False\n",
       "name         False\n",
       "sex          False\n",
       "age           True\n",
       "sibsp        False\n",
       "parch        False\n",
       "ticket       False\n",
       "fare          True\n",
       "cabin         True\n",
       "embarked     False\n",
       "boat          True\n",
       "body          True\n",
       "home.dest     True\n",
       "dtype: bool"
      ]
     },
     "execution_count": 174,
     "metadata": {},
     "output_type": "execute_result"
    }
   ],
   "source": [
    "X_train.isnull().any()"
   ]
  },
  {
   "cell_type": "markdown",
   "metadata": {},
   "source": [
    "We can see that *age, fare, cabin, boat, body, home.dest* have missing values. Let's determine how many"
   ]
  },
  {
   "cell_type": "code",
   "execution_count": 175,
   "metadata": {},
   "outputs": [
    {
     "data": {
      "text/plain": [
       "pclass        0.000000\n",
       "name          0.000000\n",
       "sex           0.000000\n",
       "age          19.961796\n",
       "sibsp         0.000000\n",
       "parch         0.000000\n",
       "ticket        0.000000\n",
       "fare          0.095511\n",
       "cabin        78.510029\n",
       "embarked      0.000000\n",
       "boat         62.846227\n",
       "body         91.212989\n",
       "home.dest    42.979943\n",
       "dtype: float64"
      ]
     },
     "execution_count": 175,
     "metadata": {},
     "output_type": "execute_result"
    }
   ],
   "source": [
    "(X_train.isnull().sum()/X_train.shape[0])*100"
   ]
  },
  {
   "cell_type": "code",
   "execution_count": 176,
   "metadata": {},
   "outputs": [
    {
     "data": {
      "image/png": "[encoded data removed]",
      "text/plain": [
       "<Figure size 1800x720 with 2 Axes>"
      ]
     },
     "metadata": {
      "needs_background": "light"
     },
     "output_type": "display_data"
    }
   ],
   "source": [
    "msno.matrix(X_train)\n",
    "plt.show()"
   ]
  },
  {
   "cell_type": "markdown",
   "metadata": {},
   "source": [
    "We can see that cabin, body, boat, are very corrupted (78%, 62%, 91% missing respectively) so it may be wise to just ignore those features. The home.dest columns is also very corrupted and it's practically not possible to imputate those values based on the data from the other passagers and from the other columns, so it will be also ignored.\n",
    "\n",
    "Also from here we see that for the age and fare features wee will need to perform imputation."
   ]
  },
  {
   "cell_type": "code",
   "execution_count": 177,
   "metadata": {},
   "outputs": [],
   "source": [
    "X_train.drop(columns=['cabin', 'boat', 'body', 'home.dest'], inplace=True)\n",
    "X_test.drop(columns=['cabin', 'boat', 'body', 'home.dest'], inplace=True)"
   ]
  },
  {
   "cell_type": "markdown",
   "metadata": {},
   "source": [
    "For the remaining columns lets go in detail"
   ]
  },
  {
   "cell_type": "code",
   "execution_count": 178,
   "metadata": {},
   "outputs": [
    {
     "data": {
      "text/html": [
       "<div>\n",
       "<style scoped>\n",
       "    .dataframe tbody tr th:only-of-type {\n",
       "        vertical-align: middle;\n",
       "    }\n",
       "\n",
       "    .dataframe tbody tr th {\n",
       "        vertical-align: top;\n",
       "    }\n",
       "\n",
       "    .dataframe thead th {\n",
       "        text-align: right;\n",
       "    }\n",
       "</style>\n",
       "<table border=\"1\" class=\"dataframe\">\n",
       "  <thead>\n",
       "    <tr style=\"text-align: right;\">\n",
       "      <th></th>\n",
       "      <th>pclass</th>\n",
       "      <th>name</th>\n",
       "      <th>sex</th>\n",
       "      <th>age</th>\n",
       "      <th>sibsp</th>\n",
       "      <th>parch</th>\n",
       "      <th>ticket</th>\n",
       "      <th>fare</th>\n",
       "      <th>embarked</th>\n",
       "    </tr>\n",
       "  </thead>\n",
       "  <tbody>\n",
       "    <tr>\n",
       "      <th>999</th>\n",
       "      <td>3.0</td>\n",
       "      <td>McCarthy, Miss. Catherine 'Katie'</td>\n",
       "      <td>female</td>\n",
       "      <td>NaN</td>\n",
       "      <td>0.0</td>\n",
       "      <td>0.0</td>\n",
       "      <td>383123</td>\n",
       "      <td>7.7500</td>\n",
       "      <td>Q</td>\n",
       "    </tr>\n",
       "    <tr>\n",
       "      <th>392</th>\n",
       "      <td>2.0</td>\n",
       "      <td>del Carlo, Mrs. Sebastiano (Argenia Genovesi)</td>\n",
       "      <td>female</td>\n",
       "      <td>24.0</td>\n",
       "      <td>1.0</td>\n",
       "      <td>0.0</td>\n",
       "      <td>SC/PARIS 2167</td>\n",
       "      <td>27.7208</td>\n",
       "      <td>C</td>\n",
       "    </tr>\n",
       "  </tbody>\n",
       "</table>\n",
       "</div>"
      ],
      "text/plain": [
       "     pclass                                           name     sex   age  \\\n",
       "999     3.0              McCarthy, Miss. Catherine 'Katie'  female   NaN   \n",
       "392     2.0  del Carlo, Mrs. Sebastiano (Argenia Genovesi)  female  24.0   \n",
       "\n",
       "     sibsp  parch         ticket     fare embarked  \n",
       "999    0.0    0.0         383123   7.7500        Q  \n",
       "392    1.0    0.0  SC/PARIS 2167  27.7208        C  "
      ]
     },
     "execution_count": 178,
     "metadata": {},
     "output_type": "execute_result"
    }
   ],
   "source": [
    "X_train.head(2)"
   ]
  },
  {
   "cell_type": "markdown",
   "metadata": {},
   "source": [
    "Name"
   ]
  },
  {
   "cell_type": "code",
   "execution_count": 179,
   "metadata": {},
   "outputs": [
    {
     "data": {
      "text/plain": [
       "1041                                  Murdlin, Mr. Joseph\n",
       "965                                Lievens, Mr. Rene Aime\n",
       "260                             Shutes, Miss. Elizabeth W\n",
       "449                 Hocking, Mrs. Elizabeth (Eliza Needs)\n",
       "730                                         Cor, Mr. Ivan\n",
       "212                                 Natsch, Mr. Charles H\n",
       "589     Wells, Mrs. Arthur Henry ('Addie' Dart Trevaskis)\n",
       "1220                              Spinner, Mr. Henry John\n",
       "740                                   Culumovic, Mr. Jeso\n",
       "196                                  Marechal, Mr. Pierre\n",
       "Name: name, dtype: object"
      ]
     },
     "execution_count": 179,
     "metadata": {},
     "output_type": "execute_result"
    }
   ],
   "source": [
    "X_train.name.sample(10)"
   ]
  },
  {
   "cell_type": "markdown",
   "metadata": {},
   "source": [
    "Is interesting to see that in the name there is information of the marital/social status encoded in teh Mr. Mrs. Master. etc. That could be useful"
   ]
  },
  {
   "cell_type": "markdown",
   "metadata": {},
   "source": [
    "Class"
   ]
  },
  {
   "cell_type": "code",
   "execution_count": 180,
   "metadata": {},
   "outputs": [
    {
     "data": {
      "text/plain": [
       "array([3., 2., 1.])"
      ]
     },
     "execution_count": 180,
     "metadata": {},
     "output_type": "execute_result"
    }
   ],
   "source": [
    "X_train.pclass.unique()"
   ]
  },
  {
   "cell_type": "code",
   "execution_count": 181,
   "metadata": {},
   "outputs": [],
   "source": [
    "X_train['pclass'] = X_train.pclass.astype(int)\n",
    "X_test['pclass'] = X_test.pclass.astype(int)"
   ]
  },
  {
   "cell_type": "markdown",
   "metadata": {},
   "source": [
    "Sex"
   ]
  },
  {
   "cell_type": "code",
   "execution_count": 182,
   "metadata": {},
   "outputs": [
    {
     "data": {
      "text/plain": [
       "male      675\n",
       "female    372\n",
       "Name: sex, dtype: int64"
      ]
     },
     "execution_count": 182,
     "metadata": {},
     "output_type": "execute_result"
    }
   ],
   "source": [
    "X_train.sex.value_counts()"
   ]
  },
  {
   "cell_type": "markdown",
   "metadata": {},
   "source": [
    "We can see an unbalanced dataset with more men than female"
   ]
  },
  {
   "cell_type": "markdown",
   "metadata": {},
   "source": [
    "Age"
   ]
  },
  {
   "cell_type": "code",
   "execution_count": 183,
   "metadata": {},
   "outputs": [
    {
     "data": {
      "image/png": "[encoded data removed]",
      "text/plain": [
       "<Figure size 1080x72 with 1 Axes>"
      ]
     },
     "metadata": {
      "needs_background": "light"
     },
     "output_type": "display_data"
    }
   ],
   "source": [
    "plt.figure(figsize=(15,1))\n",
    "sns.boxplot(x=X_train.age)\n",
    "sns.despine()\n",
    "plt.show()"
   ]
  },
  {
   "cell_type": "markdown",
   "metadata": {},
   "source": [
    "We can see no impossible/wrongly entered values in age (age<0, age>100)"
   ]
  },
  {
   "cell_type": "markdown",
   "metadata": {},
   "source": [
    "Sibsp"
   ]
  },
  {
   "cell_type": "code",
   "execution_count": 184,
   "metadata": {},
   "outputs": [
    {
     "data": {
      "text/plain": [
       "0.0    725\n",
       "1.0    242\n",
       "2.0     32\n",
       "4.0     20\n",
       "3.0     17\n",
       "5.0      6\n",
       "8.0      5\n",
       "Name: sibsp, dtype: int64"
      ]
     },
     "execution_count": 184,
     "metadata": {},
     "output_type": "execute_result"
    }
   ],
   "source": [
    "X_train.sibsp.value_counts()"
   ]
  },
  {
   "cell_type": "markdown",
   "metadata": {},
   "source": [
    "Parch"
   ]
  },
  {
   "cell_type": "code",
   "execution_count": 185,
   "metadata": {},
   "outputs": [
    {
     "data": {
      "text/plain": [
       "0.0    802\n",
       "1.0    131\n",
       "2.0     95\n",
       "3.0      8\n",
       "5.0      5\n",
       "4.0      4\n",
       "9.0      2\n",
       "Name: parch, dtype: int64"
      ]
     },
     "execution_count": 185,
     "metadata": {},
     "output_type": "execute_result"
    }
   ],
   "source": [
    "X_train.parch.value_counts()"
   ]
  },
  {
   "cell_type": "markdown",
   "metadata": {},
   "source": [
    "Ticket"
   ]
  },
  {
   "cell_type": "code",
   "execution_count": 186,
   "metadata": {},
   "outputs": [
    {
     "data": {
      "text/plain": [
       "dtype('O')"
      ]
     },
     "execution_count": 186,
     "metadata": {},
     "output_type": "execute_result"
    }
   ],
   "source": [
    "X_train.ticket.dtype"
   ]
  },
  {
   "cell_type": "markdown",
   "metadata": {},
   "source": [
    "The ticket column don't seem to have useful information. It will be dropped."
   ]
  },
  {
   "cell_type": "code",
   "execution_count": 187,
   "metadata": {},
   "outputs": [],
   "source": [
    "X_train.drop(columns=['ticket'], inplace=True)\n",
    "X_test.drop(columns=['ticket'], inplace=True)"
   ]
  },
  {
   "cell_type": "markdown",
   "metadata": {},
   "source": [
    "Fare"
   ]
  },
  {
   "cell_type": "code",
   "execution_count": 188,
   "metadata": {},
   "outputs": [
    {
     "data": {
      "image/png": "[encoded data removed]",
      "text/plain": [
       "<Figure size 1080x144 with 1 Axes>"
      ]
     },
     "metadata": {
      "needs_background": "light"
     },
     "output_type": "display_data"
    }
   ],
   "source": [
    "plt.figure(figsize=(15,2))\n",
    "sns.histplot(data=X_train, x='fare')\n",
    "sns.despine()\n",
    "plt.show()"
   ]
  },
  {
   "cell_type": "code",
   "execution_count": 189,
   "metadata": {},
   "outputs": [
    {
     "data": {
      "image/png": "[encoded data removed]",
      "text/plain": [
       "<Figure size 1080x144 with 1 Axes>"
      ]
     },
     "metadata": {
      "needs_background": "light"
     },
     "output_type": "display_data"
    }
   ],
   "source": [
    "plt.figure(figsize=(15,2))\n",
    "sns.boxplot(data=X_train, x='fare')\n",
    "sns.despine()\n",
    "plt.show()"
   ]
  },
  {
   "cell_type": "markdown",
   "metadata": {},
   "source": [
    "Here we can see that maybe the fare over 500 is a mistake, our someone got scammed XD"
   ]
  },
  {
   "cell_type": "markdown",
   "metadata": {},
   "source": [
    "Embarked"
   ]
  },
  {
   "cell_type": "code",
   "execution_count": 190,
   "metadata": {},
   "outputs": [
    {
     "data": {
      "text/plain": [
       "S    730\n",
       "C    214\n",
       "Q    103\n",
       "Name: embarked, dtype: int64"
      ]
     },
     "execution_count": 190,
     "metadata": {},
     "output_type": "execute_result"
    }
   ],
   "source": [
    "X_train.embarked.value_counts()"
   ]
  },
  {
   "cell_type": "markdown",
   "metadata": {},
   "source": [
    "Lets analyse the correlation between features"
   ]
  },
  {
   "cell_type": "code",
   "execution_count": 191,
   "metadata": {},
   "outputs": [
    {
     "data": {
      "image/png": "[encoded data removed]",
      "text/plain": [
       "<Figure size 432x288 with 2 Axes>"
      ]
     },
     "metadata": {
      "needs_background": "light"
     },
     "output_type": "display_data"
    }
   ],
   "source": [
    "X_comb = pd.concat([X_train, y_train.astype(float)], axis=1)\n",
    "g = sns.heatmap(\n",
    "    X_comb[['pclass', 'sex', 'age', 'sibsp', 'parch', 'fare', 'survived']].corr(),\n",
    "    annot=True\n",
    ")"
   ]
  },
  {
   "cell_type": "markdown",
   "metadata": {},
   "source": [
    "From here we can get some important elements:\n",
    "- The Class of the passenger is inversely correlated with the survival, passengers in the third class had less changes to survive.\n",
    "- The Age is not correlated with survival\n",
    "- Sibsp and Parch, both features indicating familiar status of the passager are correlated.\n",
    "- The fare is positively correlated with the survival rate as (sadly) expected."
   ]
  },
  {
   "cell_type": "markdown",
   "metadata": {},
   "source": [
    "### Feature Engineering"
   ]
  },
  {
   "cell_type": "markdown",
   "metadata": {
    "id": "oTlJC2jowQwG"
   },
   "source": [
    "- Evaluate if there are features with missing values and modify them (see https://scikit-learn.org/stable/modules/impute.html)\n",
    "- Find meaningful features (some features are not needed because do not contain useful infos)\n",
    "- Encode categorical features with numerical values (see https://scikit-learn.org/stable/modules/preprocessing.html#encoding-categorical-features)"
   ]
  },
  {
   "cell_type": "markdown",
   "metadata": {},
   "source": [
    "Lets get the title out of the name and combine parch and sibs in a family feature. Since the new family feature will be highly correlated with the other two and also contain them,  parch and sibl will be dropped. In the case of the name, we will retain just the title."
   ]
  },
  {
   "cell_type": "code",
   "execution_count": 192,
   "metadata": {},
   "outputs": [
    {
     "data": {
      "text/html": [
       "<div>\n",
       "<style scoped>\n",
       "    .dataframe tbody tr th:only-of-type {\n",
       "        vertical-align: middle;\n",
       "    }\n",
       "\n",
       "    .dataframe tbody tr th {\n",
       "        vertical-align: top;\n",
       "    }\n",
       "\n",
       "    .dataframe thead th {\n",
       "        text-align: right;\n",
       "    }\n",
       "</style>\n",
       "<table border=\"1\" class=\"dataframe\">\n",
       "  <thead>\n",
       "    <tr style=\"text-align: right;\">\n",
       "      <th></th>\n",
       "      <th>pclass</th>\n",
       "      <th>sex</th>\n",
       "      <th>age</th>\n",
       "      <th>fare</th>\n",
       "      <th>embarked</th>\n",
       "      <th>family_size</th>\n",
       "      <th>is_alone</th>\n",
       "      <th>title</th>\n",
       "    </tr>\n",
       "  </thead>\n",
       "  <tbody>\n",
       "    <tr>\n",
       "      <th>999</th>\n",
       "      <td>3</td>\n",
       "      <td>female</td>\n",
       "      <td>NaN</td>\n",
       "      <td>7.7500</td>\n",
       "      <td>Q</td>\n",
       "      <td>0.0</td>\n",
       "      <td>True</td>\n",
       "      <td>Miss</td>\n",
       "    </tr>\n",
       "    <tr>\n",
       "      <th>392</th>\n",
       "      <td>2</td>\n",
       "      <td>female</td>\n",
       "      <td>24.0</td>\n",
       "      <td>27.7208</td>\n",
       "      <td>C</td>\n",
       "      <td>1.0</td>\n",
       "      <td>True</td>\n",
       "      <td>Mrs</td>\n",
       "    </tr>\n",
       "    <tr>\n",
       "      <th>628</th>\n",
       "      <td>3</td>\n",
       "      <td>female</td>\n",
       "      <td>11.0</td>\n",
       "      <td>31.2750</td>\n",
       "      <td>S</td>\n",
       "      <td>6.0</td>\n",
       "      <td>False</td>\n",
       "      <td>Miss</td>\n",
       "    </tr>\n",
       "    <tr>\n",
       "      <th>1165</th>\n",
       "      <td>3</td>\n",
       "      <td>male</td>\n",
       "      <td>25.0</td>\n",
       "      <td>7.2250</td>\n",
       "      <td>C</td>\n",
       "      <td>0.0</td>\n",
       "      <td>True</td>\n",
       "      <td>Mr</td>\n",
       "    </tr>\n",
       "    <tr>\n",
       "      <th>604</th>\n",
       "      <td>3</td>\n",
       "      <td>female</td>\n",
       "      <td>16.0</td>\n",
       "      <td>7.6500</td>\n",
       "      <td>S</td>\n",
       "      <td>0.0</td>\n",
       "      <td>True</td>\n",
       "      <td>Miss</td>\n",
       "    </tr>\n",
       "  </tbody>\n",
       "</table>\n",
       "</div>"
      ],
      "text/plain": [
       "      pclass     sex   age     fare embarked  family_size  is_alone title\n",
       "999        3  female   NaN   7.7500        Q          0.0      True  Miss\n",
       "392        2  female  24.0  27.7208        C          1.0      True   Mrs\n",
       "628        3  female  11.0  31.2750        S          6.0     False  Miss\n",
       "1165       3    male  25.0   7.2250        C          0.0      True    Mr\n",
       "604        3  female  16.0   7.6500        S          0.0      True  Miss"
      ]
     },
     "execution_count": 192,
     "metadata": {},
     "output_type": "execute_result"
    }
   ],
   "source": [
    "for dataset in [X_train, X_test]:\n",
    "    dataset['family_size'] = dataset['parch'] + dataset['sibsp']\n",
    "    dataset.drop(['parch', 'sibsp'], axis=1, inplace=True)\n",
    "    dataset['is_alone'] = True\n",
    "    dataset.loc[dataset['family_size'] > 1, 'is_alone'] = False\n",
    "    dataset['title'] =  dataset['name'].str.split(\", \", expand=True)[1].str.split(\".\", expand=True)[0]\n",
    "    dataset.drop([\"name\"], axis=1, inplace=True)\n",
    "X_train.head()"
   ]
  },
  {
   "cell_type": "code",
   "execution_count": 193,
   "metadata": {},
   "outputs": [
    {
     "data": {
      "text/plain": [
       "Mr              606\n",
       "Miss            210\n",
       "Mrs             156\n",
       "Master           51\n",
       "Rev               6\n",
       "Dr                6\n",
       "Col               3\n",
       "Mlle              2\n",
       "Ms                2\n",
       "Major             1\n",
       "Don               1\n",
       "the Countess      1\n",
       "Capt              1\n",
       "Dona              1\n",
       "Name: title, dtype: int64"
      ]
     },
     "execution_count": 193,
     "metadata": {},
     "output_type": "execute_result"
    }
   ],
   "source": [
    "X_train.title.value_counts()"
   ]
  },
  {
   "cell_type": "markdown",
   "metadata": {},
   "source": [
    "There are many titles,lets group them."
   ]
  },
  {
   "cell_type": "code",
   "execution_count": 194,
   "metadata": {},
   "outputs": [
    {
     "data": {
      "text/html": [
       "<div>\n",
       "<style scoped>\n",
       "    .dataframe tbody tr th:only-of-type {\n",
       "        vertical-align: middle;\n",
       "    }\n",
       "\n",
       "    .dataframe tbody tr th {\n",
       "        vertical-align: top;\n",
       "    }\n",
       "\n",
       "    .dataframe thead th {\n",
       "        text-align: right;\n",
       "    }\n",
       "</style>\n",
       "<table border=\"1\" class=\"dataframe\">\n",
       "  <thead>\n",
       "    <tr style=\"text-align: right;\">\n",
       "      <th>sex</th>\n",
       "      <th>female</th>\n",
       "      <th>male</th>\n",
       "    </tr>\n",
       "    <tr>\n",
       "      <th>title</th>\n",
       "      <th></th>\n",
       "      <th></th>\n",
       "    </tr>\n",
       "  </thead>\n",
       "  <tbody>\n",
       "    <tr>\n",
       "      <th>Capt</th>\n",
       "      <td>0</td>\n",
       "      <td>1</td>\n",
       "    </tr>\n",
       "    <tr>\n",
       "      <th>Col</th>\n",
       "      <td>0</td>\n",
       "      <td>3</td>\n",
       "    </tr>\n",
       "    <tr>\n",
       "      <th>Don</th>\n",
       "      <td>0</td>\n",
       "      <td>1</td>\n",
       "    </tr>\n",
       "    <tr>\n",
       "      <th>Dona</th>\n",
       "      <td>1</td>\n",
       "      <td>0</td>\n",
       "    </tr>\n",
       "    <tr>\n",
       "      <th>Dr</th>\n",
       "      <td>0</td>\n",
       "      <td>6</td>\n",
       "    </tr>\n",
       "    <tr>\n",
       "      <th>Major</th>\n",
       "      <td>0</td>\n",
       "      <td>1</td>\n",
       "    </tr>\n",
       "    <tr>\n",
       "      <th>Master</th>\n",
       "      <td>0</td>\n",
       "      <td>51</td>\n",
       "    </tr>\n",
       "    <tr>\n",
       "      <th>Miss</th>\n",
       "      <td>210</td>\n",
       "      <td>0</td>\n",
       "    </tr>\n",
       "    <tr>\n",
       "      <th>Mlle</th>\n",
       "      <td>2</td>\n",
       "      <td>0</td>\n",
       "    </tr>\n",
       "    <tr>\n",
       "      <th>Mr</th>\n",
       "      <td>0</td>\n",
       "      <td>606</td>\n",
       "    </tr>\n",
       "    <tr>\n",
       "      <th>Mrs</th>\n",
       "      <td>156</td>\n",
       "      <td>0</td>\n",
       "    </tr>\n",
       "    <tr>\n",
       "      <th>Ms</th>\n",
       "      <td>2</td>\n",
       "      <td>0</td>\n",
       "    </tr>\n",
       "    <tr>\n",
       "      <th>Rev</th>\n",
       "      <td>0</td>\n",
       "      <td>6</td>\n",
       "    </tr>\n",
       "    <tr>\n",
       "      <th>the Countess</th>\n",
       "      <td>1</td>\n",
       "      <td>0</td>\n",
       "    </tr>\n",
       "  </tbody>\n",
       "</table>\n",
       "</div>"
      ],
      "text/plain": [
       "sex           female  male\n",
       "title                     \n",
       "Capt               0     1\n",
       "Col                0     3\n",
       "Don                0     1\n",
       "Dona               1     0\n",
       "Dr                 0     6\n",
       "Major              0     1\n",
       "Master             0    51\n",
       "Miss             210     0\n",
       "Mlle               2     0\n",
       "Mr                 0   606\n",
       "Mrs              156     0\n",
       "Ms                 2     0\n",
       "Rev                0     6\n",
       "the Countess       1     0"
      ]
     },
     "execution_count": 194,
     "metadata": {},
     "output_type": "execute_result"
    }
   ],
   "source": [
    "pd.crosstab(X_train['title'], X_train['sex'])"
   ]
  },
  {
   "cell_type": "code",
   "execution_count": 195,
   "metadata": {},
   "outputs": [
    {
     "name": "stdout",
     "output_type": "stream",
     "text": [
      "Miss: 0.13371537726838587\n",
      "Mrs: 0.1174785100286533\n"
     ]
    }
   ],
   "source": [
    "print(f\"Miss: {np.sum(y_train.astype(int)[X_train.title == 'Miss']) / len(X_train.title == 'Miss')}\")\n",
    "print(f\"Mrs: {np.sum(y_train.astype(int)[X_train.title == 'Mrs']) / len(X_train.title == 'Mrs')}\")"
   ]
  },
  {
   "cell_type": "markdown",
   "metadata": {},
   "source": [
    "The difference between Miss and Mrs seems to be insignificant, group them together in one. Lets also group all the rare titles."
   ]
  },
  {
   "cell_type": "code",
   "execution_count": 196,
   "metadata": {},
   "outputs": [
    {
     "data": {
      "text/plain": [
       "Mr              False\n",
       "Miss            False\n",
       "Mrs             False\n",
       "Master          False\n",
       "Rev              True\n",
       "Dr               True\n",
       "Col              True\n",
       "Ms               True\n",
       "Major            True\n",
       "Mlle             True\n",
       "Don              True\n",
       "the Countess     True\n",
       "Capt             True\n",
       "Dona             True\n",
       "Lady             True\n",
       "Mme              True\n",
       "Sir              True\n",
       "Jonkheer         True\n",
       "Name: title, dtype: bool"
      ]
     },
     "execution_count": 196,
     "metadata": {},
     "output_type": "execute_result"
    }
   ],
   "source": [
    "X_comb = pd.concat([X_train, X_test])\n",
    "rare_titles = (X_comb['title'].value_counts() < 10)\n",
    "rare_titles"
   ]
  },
  {
   "cell_type": "code",
   "execution_count": 197,
   "metadata": {},
   "outputs": [],
   "source": [
    "for dataset in [X_train, X_test]:\n",
    "    dataset.loc[dataset.title == 'Miss', 'title'] = 'Mrs'\n",
    "    dataset['title'] = dataset.title.apply(lambda x: 'rare' if rare_titles[x] else x)"
   ]
  },
  {
   "cell_type": "markdown",
   "metadata": {},
   "source": [
    "### Imputation"
   ]
  },
  {
   "cell_type": "markdown",
   "metadata": {},
   "source": [
    "We can work separetely categorical and cuantitative features"
   ]
  },
  {
   "cell_type": "markdown",
   "metadata": {},
   "source": [
    "Categorical:"
   ]
  },
  {
   "cell_type": "code",
   "execution_count": 198,
   "metadata": {},
   "outputs": [
    {
     "data": {
      "text/plain": [
       "{'embarked', 'sex', 'title'}"
      ]
     },
     "execution_count": 198,
     "metadata": {},
     "output_type": "execute_result"
    }
   ],
   "source": [
    "def get_cat_cols(df):\n",
    "    obj_cols = df.columns[df.dtypes == 'object']\n",
    "    cat_cols = df.columns[df.dtypes == 'category']\n",
    "    return set(obj_cols).union(set(cat_cols))\n",
    "\n",
    "cat_cols = get_cat_cols(X_train)\n",
    "cat_cols"
   ]
  },
  {
   "cell_type": "markdown",
   "metadata": {},
   "source": [
    "Even if in the training data we didn't find any missing value for the categorical variables in the test set they might be, so we consider the case in the transformer pipeline, using \"most frequent strategy\". We are going to transform the categorical variables into numeric ones to enlarge the spectrum of models we can use. After using one hot encoding, PCA transformation is used in order to reduce the dimensionality of the complete categorical encodings and retain the combined features that explain the most of the variability of the data."
   ]
  },
  {
   "cell_type": "code",
   "execution_count": 199,
   "metadata": {},
   "outputs": [],
   "source": [
    "cat_cols = ['embarked', 'sex', 'pclass', 'title', 'is_alone']\n",
    "cat_transformer = Pipeline(steps=[\n",
    "    ('imputer', SimpleImputer(strategy='most_frequent')),\n",
    "    ('onehot', OneHotEncoder(handle_unknown='ignore', sparse=False)),\n",
    "    ('pca', PCA(n_components=10))\n",
    "])"
   ]
  },
  {
   "cell_type": "markdown",
   "metadata": {},
   "source": [
    "Numerical"
   ]
  },
  {
   "cell_type": "markdown",
   "metadata": {},
   "source": [
    "We will perfom the inputation with knn of 5 neighbours. Since we have seen that our numerical variables have several outliers, we can Scale and Standarize these variables considering median and iqr in order no to use biased central position estimators."
   ]
  },
  {
   "cell_type": "code",
   "execution_count": 200,
   "metadata": {},
   "outputs": [],
   "source": [
    "num_cols = ['age', 'fare', 'family_size']\n",
    "num_transformer = Pipeline(steps=[\n",
    "    ('imputer', KNNImputer(n_neighbors=5)),\n",
    "    ('scaler', RobustScaler())\n",
    "])"
   ]
  },
  {
   "cell_type": "markdown",
   "metadata": {},
   "source": [
    "Combined pipeline"
   ]
  },
  {
   "cell_type": "code",
   "execution_count": 201,
   "metadata": {},
   "outputs": [],
   "source": [
    "preprocessor = ColumnTransformer(\n",
    "    transformers=[\n",
    "        ('num', num_transformer, num_cols),\n",
    "        ('cat', cat_transformer, cat_cols)\n",
    "    ]\n",
    ")"
   ]
  },
  {
   "cell_type": "markdown",
   "metadata": {},
   "source": [
    "### Model selection"
   ]
  },
  {
   "cell_type": "markdown",
   "metadata": {
    "id": "zSyIFh_LwRNO"
   },
   "source": [
    "TRAIN AND TEST DIFFERENT CLASSIFIERS:\n",
    "\n",
    "- Find the best parameters for each classifier with a stratified 10-fold cross validation (see https://scikit-learn.org/stable/modules/cross_validation.html)\n",
    "\n",
    "- Try these models:\n",
    "\n",
    ">- Naive Bayes (see https://scikit-learn.org/stable/modules/naive_bayes.html) \n",
    ">- kNN (see https://scikit-learn.org/stable/modules/neighbors.html#nearest-neighbors-classification)\n",
    ">- Decision tree (see https://scikit-learn.org/stable/modules/tree.html)\n",
    ">- Logistic regression (see https://scikit-learn.org/stable/modules/linear_model.html#logistic-regression)\n",
    "\n",
    "- Show the final performances in terms of accuracy "
   ]
  },
  {
   "cell_type": "code",
   "execution_count": 257,
   "metadata": {},
   "outputs": [],
   "source": [
    "from sklearn.naive_bayes import GaussianNB\n",
    "from sklearn.neighbors import KNeighborsClassifier\n",
    "from sklearn.tree import DecisionTreeClassifier\n",
    "from sklearn.linear_model import LogisticRegression\n",
    "from sklearn.metrics import accuracy_score"
   ]
  },
  {
   "cell_type": "code",
   "execution_count": 216,
   "metadata": {},
   "outputs": [],
   "source": [
    "clf = Pipeline(steps=[('preprocessor', preprocessor),\n",
    "                      ('classifier', \"passthrough\")])"
   ]
  },
  {
   "cell_type": "code",
   "execution_count": 253,
   "metadata": {},
   "outputs": [],
   "source": [
    "num_transformer_dist = {'preprocessor__num__imputer__n_neighbors': list(range(2, 15)),\n",
    "                        'preprocessor__num__imputer__add_indicator': [True, False]}\n",
    "\n",
    "cat_transformer_dist = {'preprocessor__cat__imputer__strategy': ['most_frequent', 'constant'],\n",
    "                        'preprocessor__cat__imputer__add_indicator': [True, False],\n",
    "                        'preprocessor__cat__pca__n_components': list(range(2, 15))}\n",
    "\n",
    "classifier_dist_1 = {\n",
    "    'classifier': [GaussianNB()],\n",
    "}\n",
    "classifier_dist_2 = {\n",
    "    'classifier': [RandomForestClassifier()],\n",
    "    'classifier__n_estimators': list(range(50, 500)),\n",
    "    'classifier__max_depth': list(range(2, 20)),\n",
    "    'classifier__bootstrap': [True, False],\n",
    "}\n",
    "classifier_dist_3 = {\n",
    "    'classifier': [NearestNeighbors()],\n",
    "    'classifier__n_neighbors': list(range(5, 35)), # 35 ~ sqrt(len(train_set))\n",
    "    'classifier__size': [1,20,40],\n",
    "    'classifier__metric': ['euclidean', 'manhattan', 'chebyshev']\n",
    "}\n",
    "classifier_dist_4 = {\n",
    "    'classifier': [DecisionTreeClassifier()],\n",
    "    'classifier__criterion': ['gini', 'entropy'],\n",
    "    'classifier__splitter': ['best', 'random'],\n",
    "    'classifier__max_depth': list(range(5, 20))+[None],\n",
    "    'classifier__max_features':['auto', 'sqrt', 'log2', None],\n",
    "}\n",
    "\n",
    "param_dist = {**num_transformer_dist,\n",
    "              **cat_transformer_dist, \n",
    "              **classifier_dist_1, \n",
    "              **classifier_dist_2,\n",
    "              **classifier_dist_3,\n",
    "              **classifier_dist_4}\n",
    "\n",
    "random_search = RandomizedSearchCV(\n",
    "    clf,\n",
    "    param_distributions=param_dist,\n",
    "    scoring='accuracy', n_iter=100, cv=10\n",
    ")"
   ]
  },
  {
   "cell_type": "code",
   "execution_count": 254,
   "metadata": {},
   "outputs": [
    {
     "data": {
      "text/plain": [
       "RandomizedSearchCV(cv=10,\n",
       "                   estimator=Pipeline(steps=[('preprocessor',\n",
       "                                              ColumnTransformer(transformers=[('num',\n",
       "                                                                               Pipeline(steps=[('imputer',\n",
       "                                                                                                KNNImputer()),\n",
       "                                                                                               ('scaler',\n",
       "                                                                                                RobustScaler())]),\n",
       "                                                                               ['age',\n",
       "                                                                                'fare',\n",
       "                                                                                'family_size']),\n",
       "                                                                              ('cat',\n",
       "                                                                               Pipeline(steps=[('imputer',\n",
       "                                                                                                SimpleImputer(strategy='most_frequent')),\n",
       "                                                                                               ('onehot',\n",
       "                                                                                                OneHotEncoder(handle_unknown='ignore',\n",
       "                                                                                                              sparse=False)),\n",
       "                                                                                               ('pca',...\n",
       "                                                       DecisionTreeClassifier()],\n",
       "                                        'preprocessor__cat__imputer__add_indicator': [True,\n",
       "                                                                                      False],\n",
       "                                        'preprocessor__cat__imputer__strategy': ['most_frequent',\n",
       "                                                                                 'constant'],\n",
       "                                        'preprocessor__cat__pca__n_components': [2,\n",
       "                                                                                 3,\n",
       "                                                                                 4,\n",
       "                                                                                 5,\n",
       "                                                                                 6,\n",
       "                                                                                 7,\n",
       "                                                                                 8,\n",
       "                                                                                 9,\n",
       "                                                                                 10,\n",
       "                                                                                 11,\n",
       "                                                                                 12,\n",
       "                                                                                 13,\n",
       "                                                                                 14],\n",
       "                                        'preprocessor__num__imputer__add_indicator': [True,\n",
       "                                                                                      False],\n",
       "                                        'preprocessor__num__imputer__n_neighbors': [2,\n",
       "                                                                                    3,\n",
       "                                                                                    4,\n",
       "                                                                                    5,\n",
       "                                                                                    6,\n",
       "                                                                                    7,\n",
       "                                                                                    8,\n",
       "                                                                                    9,\n",
       "                                                                                    10,\n",
       "                                                                                    11,\n",
       "                                                                                    12,\n",
       "                                                                                    13,\n",
       "                                                                                    14]},\n",
       "                   scoring='accuracy')"
      ]
     },
     "execution_count": 254,
     "metadata": {},
     "output_type": "execute_result"
    }
   ],
   "source": [
    "random_search.fit(X_train, y_train)"
   ]
  },
  {
   "cell_type": "code",
   "execution_count": 259,
   "metadata": {},
   "outputs": [
    {
     "name": "stdout",
     "output_type": "stream",
     "text": [
      "\n",
      "Prediction accuracy:\n",
      "79.77%\n",
      "\n"
     ]
    }
   ],
   "source": [
    "scores = random_search.best_estimator_.predict(X_test)\n",
    "print('\\nPrediction accuracy:')\n",
    "print('{:.2%}\\n'.format(accuracy_score(y_test, scores)))"
   ]
  }
 ],
 "metadata": {
  "colab": {
   "authorship_tag": "ABX9TyPWJlfzwmJXTeC6A1hhhgYQ",
   "collapsed_sections": [],
   "name": "Copia di Challenge_2.ipynb",
   "provenance": [
    {
     "file_id": "1LWBD3UDMRIIX2DOTGRpwqOruV3kQTW2c",
     "timestamp": 1648123768835
    }
   ]
  },
  "kernelspec": {
   "display_name": "Python 3 (ipykernel)",
   "language": "python",
   "name": "python3"
  },
  "language_info": {
   "codemirror_mode": {
    "name": "ipython",
    "version": 3
   },
   "file_extension": ".py",
   "mimetype": "text/x-python",
   "name": "python",
   "nbconvert_exporter": "python",
   "pygments_lexer": "ipython3",
   "version": "3.9.7"
  }
 },
 "nbformat": 4,
 "nbformat_minor": 1
}
